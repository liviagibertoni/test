{
  "metadata": {
    "kernelspec": {
      "name": "python",
      "display_name": "Python (Pyodide)",
      "language": "python"
    },
    "language_info": {
      "codemirror_mode": {
        "name": "python",
        "version": 3
      },
      "file_extension": ".py",
      "mimetype": "text/x-python",
      "name": "python",
      "nbconvert_exporter": "python",
      "pygments_lexer": "ipython3",
      "version": "3.8"
    }
  },
  "nbformat_minor": 4,
  "nbformat": 4,
  "cells": [
    {
      "cell_type": "markdown",
      "source": "# My Journey Discovering Skincare Ingredients",
      "metadata": {}
    },
    {
      "cell_type": "markdown",
      "source": "**Introduction**",
      "metadata": {}
    },
    {
      "cell_type": "markdown",
      "source": "The skincare industry is vast, and choosing the right ingredients for your skin type can make all the difference. After years of trying products without much thought, I decided to deepen my knowledge about skincare ingredients and understand what really works for me.",
      "metadata": {}
    },
    {
      "cell_type": "markdown",
      "source": "**Step 1: Exploring the Products**",
      "metadata": {}
    },
    {
      "cell_type": "markdown",
      "source": "I started by looking for a reliable database of skincare products and their ingredients. I found an interesting dataset on Kaggle, which you can access here. https://www.kaggle.com/datasets/eward96/skincare-products-and-their-ingredients?resource=download",
      "metadata": {}
    },
    {
      "cell_type": "markdown",
      "source": "**Step 2: Knowing the Ingredients**",
      "metadata": {}
    },
    {
      "cell_type": "markdown",
      "source": "Now that I have a list of ingredients and products, I want to identify some common ingredients that are known to benefit or harm the skin. For example, moisturizing ingredients, antioxidants, and those that may cause irritation.",
      "metadata": {}
    },
    {
      "cell_type": "markdown",
      "source": "*Moisturizers:* \n\n*Glycerin\n\n*Hyaluronic Acid\n\n*Shea Butter\n\n*Irritants:* \n\n*Alcohol\n\n*Fragrance",
      "metadata": {}
    },
    {
      "cell_type": "markdown",
      "source": "**Step 3: Choosing Products Based on Ingredients**",
      "metadata": {}
    },
    {
      "cell_type": "markdown",
      "source": "With an understanding of ingredients, I began selecting products that addressed my skin’s specific needs. For example, my skin needs a lot of hydration, so I looked for products rich in **hyaluronic acid and shea butter**, but I avoided products with **fragrances or alcohol**.",
      "metadata": {}
    },
    {
      "cell_type": "markdown",
      "source": "*Personal preferences list*\n\n*Need: Moisturizing\n\n*Favorite Ingredient: Hyaluronic Acid\n\n*Avoid: Alcohol and Fragrances\n",
      "metadata": {}
    },
    {
      "cell_type": "markdown",
      "source": "**Conclusion**",
      "metadata": {}
    },
    {
      "cell_type": "markdown",
      "source": "Exploring and understanding skincare product ingredients is a worthwhile journey, helping me make more informed choices and take better care of my skin. Analyzing data has allowed me to see more clearly which products truly meet my needs. I encourage everyone to take a look at the ingredients in their products and make informed choices. If you want to explore more about skincare products, check out the dataset I used here. https://www.kaggle.com/datasets/eward96/skincare-products-and-their-ingredients?resource=download",
      "metadata": {}
    },
    {
      "cell_type": "code",
      "source": "",
      "metadata": {
        "trusted": true
      },
      "outputs": [],
      "execution_count": null
    }
  ]
}